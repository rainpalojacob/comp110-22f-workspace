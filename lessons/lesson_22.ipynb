{
 "cells": [
  {
   "cell_type": "code",
   "execution_count": 1,
   "metadata": {},
   "outputs": [],
   "source": [
    "col_data: dict[str, list[float]] = {\n",
    "    \"high\": [77, 84, 78, 79, 65, 67, 74, 61, 55, 61],\n",
    "    \"low\":  [67, 51, 64, 45, 43, 53, 56, 37, 34, 42],\n",
    "    \"rain\": [.3, .2, .4, .8, 0., .2, .4, .5, .1, .1]}"
   ]
  },
  {
   "cell_type": "code",
   "execution_count": 2,
   "metadata": {},
   "outputs": [],
   "source": [
    "def less_than(col: list[float], threshold: float) -> list[bool]:\n",
    "    result: list[bool] = []\n",
    "    for item in col:\n",
    "        result.append(item < threshold)\n",
    "    return result"
   ]
  },
  {
   "cell_type": "code",
   "execution_count": 3,
   "metadata": {},
   "outputs": [],
   "source": [
    "def masked(col:list[float], mask: list[bool]) -> list[float]:\n",
    "    result: list[float] = []\n",
    "    for i in range(len(mask)):\n",
    "        if mask[i]:\n",
    "            result.append(col[i])\n",
    "    return result"
   ]
  },
  {
   "cell_type": "code",
   "execution_count": 4,
   "metadata": {},
   "outputs": [],
   "source": [
    "def mean(col: list[float]) -> float:\n",
    "    return sum(col) / len(col)"
   ]
  },
  {
   "cell_type": "code",
   "execution_count": 5,
   "metadata": {},
   "outputs": [
    {
     "name": "stdout",
     "output_type": "stream",
     "text": [
      "51.0\n"
     ]
    }
   ],
   "source": [
    "def not_mask(mask: list[bool]) -> list[bool]:\n",
    "  result: list[bool] = []\n",
    "  for item in mask:\n",
    "    result.append(not item)\n",
    "  return result\n",
    "\n",
    "mask_a: list[bool] = less_than(col_data[\"high\"], 80)\n",
    "mask_b: list[bool] = not_mask(mask_a)\n",
    "\n",
    "values: list[float] = masked(col_data[\"low\"], mask_b)\n",
    "print(mean(values)) "
   ]
  },
  {
   "cell_type": "code",
   "execution_count": 1,
   "metadata": {},
   "outputs": [
    {
     "ename": "NameError",
     "evalue": "name 'Pasta' is not defined",
     "output_type": "error",
     "traceback": [
      "\u001b[0;31m---------------------------------------------------------------------------\u001b[0m",
      "\u001b[0;31mNameError\u001b[0m                                 Traceback (most recent call last)",
      "\u001b[1;32m/Users/bulilit/comp110-22f-workspace-1/lessons/lesson_22.ipynb Cell 6\u001b[0m in \u001b[0;36m<cell line: 1>\u001b[0;34m()\u001b[0m\n\u001b[0;32m----> <a href='vscode-notebook-cell:/Users/bulilit/comp110-22f-workspace-1/lessons/lesson_22.ipynb#W5sZmlsZQ%3D%3D?line=0'>1</a>\u001b[0m p0: Pasta \u001b[39m=\u001b[39m Pasta()\n\u001b[1;32m      <a href='vscode-notebook-cell:/Users/bulilit/comp110-22f-workspace-1/lessons/lesson_22.ipynb#W5sZmlsZQ%3D%3D?line=1'>2</a>\u001b[0m p0\u001b[39m.\u001b[39msauce \u001b[39m=\u001b[39m \u001b[39m\"\u001b[39m\u001b[39mmarinara\u001b[39m\u001b[39m\"\u001b[39m\n\u001b[1;32m      <a href='vscode-notebook-cell:/Users/bulilit/comp110-22f-workspace-1/lessons/lesson_22.ipynb#W5sZmlsZQ%3D%3D?line=2'>3</a>\u001b[0m p0\u001b[39m.\u001b[39mnoodle \u001b[39m=\u001b[39m \u001b[39m\"\u001b[39m\u001b[39mspaghetti\u001b[39m\u001b[39m\"\u001b[39m\n",
      "\u001b[0;31mNameError\u001b[0m: name 'Pasta' is not defined"
     ]
    }
   ],
   "source": [
    "p0: Pasta = Pasta()\n",
    "p0.sauce = \"marinara\"\n",
    "p0.noodle = \"spaghetti\"\n",
    "p1: Pasta = Pasta()\n",
    "p1.sauce = \"fettuccine\"\n",
    "p1.noodle = \"farfalle\"\n",
    "\n",
    "print(p1.price())"
   ]
  }
 ],
 "metadata": {
  "kernelspec": {
   "display_name": "Python 3.10.6 64-bit",
   "language": "python",
   "name": "python3"
  },
  "language_info": {
   "codemirror_mode": {
    "name": "ipython",
    "version": 3
   },
   "file_extension": ".py",
   "mimetype": "text/x-python",
   "name": "python",
   "nbconvert_exporter": "python",
   "pygments_lexer": "ipython3",
   "version": "3.10.6"
  },
  "orig_nbformat": 4,
  "vscode": {
   "interpreter": {
    "hash": "aee8b7b246df8f9039afb4144a1f6fd8d2ca17a180786b69acc140d282b71a49"
   }
  }
 },
 "nbformat": 4,
 "nbformat_minor": 2
}
